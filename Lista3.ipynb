{
 "cells": [
  {
   "cell_type": "code",
   "execution_count": 1,
   "metadata": {},
   "outputs": [],
   "source": [
    "import numpy as np\n",
    "import matplotlib.pyplot as plt\n",
    "import seaborn as sb\n",
    "import scipy.stats as st"
   ]
  },
  {
   "cell_type": "code",
   "execution_count": 21,
   "metadata": {},
   "outputs": [
    {
     "name": "stdout",
     "output_type": "stream",
     "text": [
      "0.263\n"
     ]
    },
    {
     "data": {
      "text/plain": [
       "(array([0.13046765, 0.30442451, 0.39140294, 0.65233824, 0.8262951 ,\n",
       "        0.8262951 , 1.17420883, 1.82654706, 2.39190687, 2.91377746]),\n",
       " array([0.1255507 , 0.21298114, 0.30041158, 0.38784202, 0.47527247,\n",
       "        0.56270291, 0.65013335, 0.73756379, 0.82499423, 0.91242468,\n",
       "        0.99985512]),\n",
       " <BarContainer object of 10 artists>)"
      ]
     },
     "execution_count": 21,
     "metadata": {},
     "output_type": "execute_result"
    },
    {
     "data": {
      "image/png": "[encoded data removed]",
      "text/plain": [
       "<Figure size 432x288 with 1 Axes>"
      ]
     },
     "metadata": {
      "needs_background": "light"
     },
     "output_type": "display_data"
    }
   ],
   "source": [
    "def AkceptOdrzut(alfa, C, M, N):\n",
    "    U = np.random.random(N)\n",
    "    X = np.random.random(N)\n",
    "    Y = [X[i] for i in range(len(X)) if M*U[i] <= C*(X[i]**alfa)]\n",
    "    acc = len(Y)/len(X)\n",
    "    print(acc)\n",
    "    return Y\n",
    "\n",
    "def teoria(X):\n",
    "    return 3*(X**2)\n",
    "    \n",
    "Y = AkceptOdrzut(2,4,5,1000)\n",
    "X = np.arange(0,1,0.01)\n",
    "plt.plot(X,teoria(X),color='red')\n",
    "plt.hist(Y, density = True )\n",
    "\n",
    "\n"
   ]
  },
  {
   "cell_type": "markdown",
   "metadata": {},
   "source": [
    "$x \\le \\sqrt{e^{-\\frac{y^2}{2x^2}}}$ \\\n",
    "$x \\le e^{-\\frac{y^2}{4x^2}}$ \\\n",
    "$ ln(x) \\le -\\frac{y^2}{4x^2} $ \\\n",
    "$ y^2 \\le -4x^2ln(x) $ \\\n",
    "$ (y \\le 2x\\sqrt{-ln(x)} \\wedge y \\ge -2x\\sqrt{-ln(x)})$\n",
    "\n",
    " "
   ]
  },
  {
   "cell_type": "code",
   "execution_count": 13,
   "metadata": {},
   "outputs": [
    {
     "name": "stderr",
     "output_type": "stream",
     "text": [
      "C:\\Users\\lab\\AppData\\Local\\Temp\\ipykernel_18160\\2989679976.py:2: RuntimeWarning: divide by zero encountered in log\n",
      "  return 2*x*np.sqrt(-np.log(x))\n",
      "C:\\Users\\lab\\AppData\\Local\\Temp\\ipykernel_18160\\2989679976.py:2: RuntimeWarning: invalid value encountered in multiply\n",
      "  return 2*x*np.sqrt(-np.log(x))\n",
      "C:\\Users\\lab\\AppData\\Local\\Temp\\ipykernel_18160\\2989679976.py:5: RuntimeWarning: divide by zero encountered in log\n",
      "  return -2*x*np.sqrt(-np.log(x))\n",
      "C:\\Users\\lab\\AppData\\Local\\Temp\\ipykernel_18160\\2989679976.py:5: RuntimeWarning: invalid value encountered in multiply\n",
      "  return -2*x*np.sqrt(-np.log(x))\n"
     ]
    },
    {
     "data": {
      "text/plain": [
       "(-2.0, 2.0)"
      ]
     },
     "execution_count": 13,
     "metadata": {},
     "output_type": "execute_result"
    },
    {
     "data": {
      "image/png": "[encoded data removed]",
      "text/plain": [
       "<Figure size 432x288 with 1 Axes>"
      ]
     },
     "metadata": {
      "needs_background": "light"
     },
     "output_type": "display_data"
    }
   ],
   "source": [
    "def f1(x):\n",
    "    return 2*x*np.sqrt(-np.log(x))\n",
    "\n",
    "def f2(x): \n",
    "    return -2*x*np.sqrt(-np.log(x))\n",
    "\n",
    "x = np.arange(0,1,0.001)\n",
    "plt.plot(x,f1(x))\n",
    "plt.plot(x,f2(x))\n",
    "plt.xlim([0,3])\n",
    "plt.ylim([-2,2])"
   ]
  },
  {
   "cell_type": "code",
   "execution_count": null,
   "metadata": {},
   "outputs": [],
   "source": [
    "import linalg\n",
    "\n"
   ]
  }
 ],
 "metadata": {
  "interpreter": {
   "hash": "d082633fcecf0fb499aacf5206bd3193ceafafe403a4165355135036fbca3157"
  },
  "kernelspec": {
   "display_name": "Python 3.9.12 ('base')",
   "language": "python",
   "name": "python3"
  },
  "language_info": {
   "codemirror_mode": {
    "name": "ipython",
    "version": 3
   },
   "file_extension": ".py",
   "mimetype": "text/x-python",
   "name": "python",
   "nbconvert_exporter": "python",
   "pygments_lexer": "ipython3",
   "version": "3.9.12"
  },
  "orig_nbformat": 4
 },
 "nbformat": 4,
 "nbformat_minor": 2
}
