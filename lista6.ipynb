{
 "cells": [
  {
   "cell_type": "code",
   "execution_count": 39,
   "metadata": {},
   "outputs": [],
   "source": [
    "import scipy.linalg as alg\n",
    "import numpy as np\n",
    "import matplotlib.pyplot as plt\n",
    "import seaborn as sb\n",
    "from mpl_toolkits.mplot3d import Axes3D \n",
    "import matplotlib"
   ]
  },
  {
   "cell_type": "code",
   "execution_count": 42,
   "metadata": {},
   "outputs": [
    {
     "data": {
      "text/plain": [
       "[<matplotlib.lines.Line2D at 0x1e4b4b41d90>]"
      ]
     },
     "execution_count": 42,
     "metadata": {},
     "output_type": "execute_result"
    },
    {
     "data": {
      "image/png": "[encoded data removed]",
      "text/plain": [
       "<Figure size 432x288 with 1 Axes>"
      ]
     },
     "metadata": {
      "needs_background": "light"
     },
     "output_type": "display_data"
    }
   ],
   "source": [
    "def procesTrucizny(lam,T):\n",
    "    k = np.random.poisson(lam*T)\n",
    "    U = np.random.uniform(0,T,k)\n",
    "    T = sorted(U)\n",
    "    return T\n",
    "\n",
    "p = procesTrucizny(1,10)\n",
    "Y = [0]\n",
    "for i in range(len(p)-1):\n",
    "    Y.append(i+1)\n",
    "plt.xlim(0,10)\n",
    "plt.step(p,Y,)"
   ]
  }
 ],
 "metadata": {
  "interpreter": {
   "hash": "d082633fcecf0fb499aacf5206bd3193ceafafe403a4165355135036fbca3157"
  },
  "kernelspec": {
   "display_name": "Python 3.9.12 ('base')",
   "language": "python",
   "name": "python3"
  },
  "language_info": {
   "codemirror_mode": {
    "name": "ipython",
    "version": 3
   },
   "file_extension": ".py",
   "mimetype": "text/x-python",
   "name": "python",
   "nbconvert_exporter": "python",
   "pygments_lexer": "ipython3",
   "version": "3.9.12"
  },
  "orig_nbformat": 4
 },
 "nbformat": 4,
 "nbformat_minor": 2
}
